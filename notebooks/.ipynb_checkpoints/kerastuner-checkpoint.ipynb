{
 "cells": [
  {
   "cell_type": "code",
   "execution_count": 2,
   "metadata": {
    "id": "YMFVPnBf6aSv"
   },
   "outputs": [
    {
     "name": "stdout",
     "output_type": "stream",
     "text": [
      "Collecting keras-tuner\n",
      "  Downloading keras_tuner-1.0.3-py3-none-any.whl (96 kB)\n",
      "\u001b[K     |████████████████████████████████| 96 kB 1.7 MB/s eta 0:00:011\n",
      "\u001b[?25hRequirement already satisfied: requests in /home/boukary/anaconda3/lib/python3.8/site-packages (from keras-tuner) (2.25.1)\n",
      "Requirement already satisfied: ipython in /home/boukary/anaconda3/lib/python3.8/site-packages (from keras-tuner) (7.22.0)\n",
      "Requirement already satisfied: tensorboard in /home/boukary/.local/lib/python3.8/site-packages (from keras-tuner) (2.2.2)\n",
      "Collecting kt-legacy\n",
      "  Downloading kt-legacy-1.0.3.tar.gz (5.8 kB)\n",
      "Requirement already satisfied: numpy in /home/boukary/anaconda3/lib/python3.8/site-packages (from keras-tuner) (1.20.2)\n",
      "Requirement already satisfied: packaging in /home/boukary/anaconda3/lib/python3.8/site-packages (from keras-tuner) (20.9)\n",
      "Requirement already satisfied: scipy in /home/boukary/anaconda3/lib/python3.8/site-packages (from keras-tuner) (1.5.4)\n",
      "Requirement already satisfied: decorator in /home/boukary/anaconda3/lib/python3.8/site-packages (from ipython->keras-tuner) (5.0.9)\n",
      "Requirement already satisfied: pickleshare in /home/boukary/anaconda3/lib/python3.8/site-packages (from ipython->keras-tuner) (0.7.5)\n",
      "Requirement already satisfied: jedi>=0.16 in /home/boukary/anaconda3/lib/python3.8/site-packages (from ipython->keras-tuner) (0.17.2)\n",
      "Requirement already satisfied: backcall in /home/boukary/anaconda3/lib/python3.8/site-packages (from ipython->keras-tuner) (0.2.0)\n",
      "Requirement already satisfied: setuptools>=18.5 in /home/boukary/anaconda3/lib/python3.8/site-packages (from ipython->keras-tuner) (52.0.0.post20210125)\n",
      "Requirement already satisfied: traitlets>=4.2 in /home/boukary/anaconda3/lib/python3.8/site-packages (from ipython->keras-tuner) (5.0.5)\n",
      "Requirement already satisfied: pygments in /home/boukary/anaconda3/lib/python3.8/site-packages (from ipython->keras-tuner) (2.9.0)\n",
      "Requirement already satisfied: pexpect>4.3 in /home/boukary/anaconda3/lib/python3.8/site-packages (from ipython->keras-tuner) (4.8.0)\n",
      "Requirement already satisfied: prompt-toolkit!=3.0.0,!=3.0.1,<3.1.0,>=2.0.0 in /home/boukary/anaconda3/lib/python3.8/site-packages (from ipython->keras-tuner) (3.0.17)\n",
      "Requirement already satisfied: parso<0.8.0,>=0.7.0 in /home/boukary/anaconda3/lib/python3.8/site-packages (from jedi>=0.16->ipython->keras-tuner) (0.7.0)\n",
      "Requirement already satisfied: ptyprocess>=0.5 in /home/boukary/anaconda3/lib/python3.8/site-packages (from pexpect>4.3->ipython->keras-tuner) (0.7.0)\n",
      "Requirement already satisfied: wcwidth in /home/boukary/anaconda3/lib/python3.8/site-packages (from prompt-toolkit!=3.0.0,!=3.0.1,<3.1.0,>=2.0.0->ipython->keras-tuner) (0.2.5)\n",
      "Requirement already satisfied: ipython-genutils in /home/boukary/anaconda3/lib/python3.8/site-packages (from traitlets>=4.2->ipython->keras-tuner) (0.2.0)\n",
      "Requirement already satisfied: pyparsing>=2.0.2 in /home/boukary/anaconda3/lib/python3.8/site-packages (from packaging->keras-tuner) (2.4.7)\n",
      "Requirement already satisfied: chardet<5,>=3.0.2 in /home/boukary/anaconda3/lib/python3.8/site-packages (from requests->keras-tuner) (4.0.0)\n",
      "Requirement already satisfied: urllib3<1.27,>=1.21.1 in /home/boukary/anaconda3/lib/python3.8/site-packages (from requests->keras-tuner) (1.26.6)\n",
      "Requirement already satisfied: idna<3,>=2.5 in /home/boukary/anaconda3/lib/python3.8/site-packages (from requests->keras-tuner) (2.10)\n",
      "Requirement already satisfied: certifi>=2017.4.17 in /home/boukary/anaconda3/lib/python3.8/site-packages (from requests->keras-tuner) (2021.5.30)\n",
      "Requirement already satisfied: werkzeug>=0.11.15 in /home/boukary/.local/lib/python3.8/site-packages (from tensorboard->keras-tuner) (1.0.1)\n",
      "Requirement already satisfied: protobuf>=3.6.0 in /home/boukary/.local/lib/python3.8/site-packages (from tensorboard->keras-tuner) (3.12.2)\n",
      "Requirement already satisfied: grpcio>=1.24.3 in /home/boukary/.local/lib/python3.8/site-packages (from tensorboard->keras-tuner) (1.30.0)\n",
      "Requirement already satisfied: six>=1.10.0 in /home/boukary/anaconda3/lib/python3.8/site-packages (from tensorboard->keras-tuner) (1.16.0)\n",
      "Requirement already satisfied: wheel>=0.26 in /home/boukary/anaconda3/lib/python3.8/site-packages (from tensorboard->keras-tuner) (0.36.2)\n",
      "Requirement already satisfied: google-auth<2,>=1.6.3 in /home/boukary/.local/lib/python3.8/site-packages (from tensorboard->keras-tuner) (1.19.0)\n",
      "Requirement already satisfied: tensorboard-plugin-wit>=1.6.0 in /home/boukary/.local/lib/python3.8/site-packages (from tensorboard->keras-tuner) (1.7.0)\n",
      "Requirement already satisfied: google-auth-oauthlib<0.5,>=0.4.1 in /home/boukary/.local/lib/python3.8/site-packages (from tensorboard->keras-tuner) (0.4.1)\n",
      "Requirement already satisfied: absl-py>=0.4 in /home/boukary/.local/lib/python3.8/site-packages (from tensorboard->keras-tuner) (0.9.0)\n",
      "Requirement already satisfied: markdown>=2.6.8 in /home/boukary/.local/lib/python3.8/site-packages (from tensorboard->keras-tuner) (3.2.2)\n",
      "Requirement already satisfied: rsa<5,>=3.1.4 in /home/boukary/.local/lib/python3.8/site-packages (from google-auth<2,>=1.6.3->tensorboard->keras-tuner) (4.6)\n",
      "Requirement already satisfied: cachetools<5.0,>=2.0.0 in /home/boukary/.local/lib/python3.8/site-packages (from google-auth<2,>=1.6.3->tensorboard->keras-tuner) (4.1.1)\n",
      "Requirement already satisfied: pyasn1-modules>=0.2.1 in /home/boukary/.local/lib/python3.8/site-packages (from google-auth<2,>=1.6.3->tensorboard->keras-tuner) (0.2.8)\n",
      "Requirement already satisfied: requests-oauthlib>=0.7.0 in /home/boukary/.local/lib/python3.8/site-packages (from google-auth-oauthlib<0.5,>=0.4.1->tensorboard->keras-tuner) (1.3.0)\n",
      "Requirement already satisfied: pyasn1<0.5.0,>=0.4.6 in /home/boukary/.local/lib/python3.8/site-packages (from pyasn1-modules>=0.2.1->google-auth<2,>=1.6.3->tensorboard->keras-tuner) (0.4.8)\n",
      "Requirement already satisfied: oauthlib>=3.0.0 in /home/boukary/anaconda3/lib/python3.8/site-packages (from requests-oauthlib>=0.7.0->google-auth-oauthlib<0.5,>=0.4.1->tensorboard->keras-tuner) (3.1.0)\n",
      "Building wheels for collected packages: kt-legacy\n",
      "  Building wheel for kt-legacy (setup.py) ... \u001b[?25ldone\n",
      "\u001b[?25h  Created wheel for kt-legacy: filename=kt_legacy-1.0.3-py3-none-any.whl size=9562 sha256=af59bb02008b798fd4b93e7cdf10de69d65fe48bd954873455232fb02628eda7\n",
      "  Stored in directory: /home/boukary/.cache/pip/wheels/f2/2e/6b/ce6f26f303aa955673b067602e7e388625406cc84db29f257b\n",
      "Successfully built kt-legacy\n",
      "Installing collected packages: kt-legacy, keras-tuner\n",
      "Successfully installed keras-tuner-1.0.3 kt-legacy-1.0.3\n"
     ]
    }
   ],
   "source": [
    "!pip install keras-tuner"
   ]
  },
  {
   "cell_type": "code",
   "execution_count": null,
   "metadata": {
    "id": "vswRPdeI6mbd"
   },
   "outputs": [],
   "source": [
    "import tensorflow as tf\n",
    "import keras_tuner\n",
    "import matplotlib.pyplot as plt\n",
    "import numpy as np"
   ]
  },
  {
   "cell_type": "code",
   "execution_count": null,
   "metadata": {
    "id": "6kjWeW276-1v"
   },
   "outputs": [],
   "source": [
    "tf.__version__"
   ]
  },
  {
   "cell_type": "code",
   "execution_count": null,
   "metadata": {
    "id": "yTSEuF5m7Jwk"
   },
   "outputs": [],
   "source": [
    "(x_train, y_train),(x_test, y_test) =tf.keras.datasets.fashion_mnist.load_data()"
   ]
  },
  {
   "cell_type": "code",
   "execution_count": null,
   "metadata": {
    "id": "n16wHElA7jGN"
   },
   "outputs": [],
   "source": [
    "x_train.shape"
   ]
  },
  {
   "cell_type": "code",
   "execution_count": null,
   "metadata": {
    "id": "fntwA3Xc7qGT"
   },
   "outputs": [],
   "source": [
    "set(y_train)"
   ]
  },
  {
   "cell_type": "code",
   "execution_count": null,
   "metadata": {
    "id": "hGTx1MCf7yKM"
   },
   "outputs": [],
   "source": [
    "plt.imshow(x_train[0], cmap=\"gray\")\n",
    "plt.title(y_train[0])"
   ]
  },
  {
   "cell_type": "markdown",
   "metadata": {
    "id": "jr377A68TZgm"
   },
   "source": [
    "#"
   ]
  },
  {
   "cell_type": "code",
   "execution_count": null,
   "metadata": {
    "id": "z1DlAJF48eUz"
   },
   "outputs": [],
   "source": [
    "def create_model(hp):\n",
    "    num_hidden_layers =1\n",
    "    num_units=8\n",
    "    dropout_rate=0.1\n",
    "    learning_rate=0.01\n",
    "    if hp:\n",
    "        num_hidden_layers = hp.Choice('num_hidden_layers', values=(1,2,3))\n",
    "        num_units = hp.Choice(\"num_units\",values=(8,16,32))\n",
    "        dropout_rate = hp.Float('dropout_rate', min_value=0.1, max_value=0.5)\n",
    "        learning_rate = hp.Float('learning_rate',min_value=0.0001, max_value=0.01)\n",
    "    model= tf.keras.Sequential()\n",
    "    model.add(tf.keras.layers.Flatten(input_shape=(28,28)))\n",
    "    model.add(tf.keras.layers.Lambda(lambda x:x/255.)) # une couche lambda pour normaliser les pixels\n",
    "    for _ in range(0, num_hidden_layers):\n",
    "        model.add(tf.keras.layers.Dense(num_units, activation='relu'))\n",
    "        model.add(tf.keras.layers.Dropout(dropout_rate))\n",
    "        model.add(tf.keras.layers.Dense(10, activation=\"softmax\"))\n",
    "\n",
    "    model.compile(loss=\"sparse_categorical_crossentropy\",\n",
    "               optimizer=tf.keras.optimizers.Adam(learning_rate=learning_rate),\n",
    "               metrics=[\"accuracy\"])\n",
    "    return model"
   ]
  },
  {
   "cell_type": "markdown",
   "metadata": {
    "id": "FGep7cGIVWKy"
   },
   "source": [
    "Maintenant que le model est construit on peu afficher son architecture en appliquant la méthode **summary**  \n"
   ]
  },
  {
   "cell_type": "code",
   "execution_count": null,
   "metadata": {
    "id": "36EmF0pVVOCd"
   },
   "outputs": [],
   "source": [
    "create_model(None).summary()"
   ]
  },
  {
   "cell_type": "markdown",
   "metadata": {
    "id": "BTbQAM4pWLLD"
   },
   "source": []
  },
  {
   "cell_type": "markdown",
   "metadata": {
    "id": "G7WF3ggYWLP3"
   },
   "source": [
    "Ceci est notre model avec les paramètres par défaut\n",
    "Créons maintenantant une classe quie hérite d'une classe du package **kerastuner**"
   ]
  },
  {
   "cell_type": "code",
   "execution_count": null,
   "metadata": {
    "id": "BzyA6OxwWKIE"
   },
   "outputs": [],
   "source": [
    "class CustomTuner(kerastuner.tuners.BayesianOptimization):\n",
    "  def run_trial(self, trial, *args, **kwargs):\n",
    "    kwargs[\"batch_size\"] = trial.hyperparameters.Int(\"batch_size\", 32,128, step=32)\n",
    "    super(CustomTuner, self).run_trial(trial,*args,**kwargs)"
   ]
  },
  {
   "cell_type": "code",
   "execution_count": null,
   "metadata": {
    "id": "tw-5YFCzbdaI"
   },
   "outputs": [],
   "source": [
    "tuner = CustomTuner(\n",
    "    create_model,\n",
    "    objective= \"val_accuracy\",\n",
    "    max_trials=20,\n",
    "    directory='logs',\n",
    "    project_name=\"fashion_mnist\",\n",
    "    overwrite=True\n",
    ")"
   ]
  },
  {
   "cell_type": "code",
   "execution_count": null,
   "metadata": {
    "id": "mjQkQvhCbdhu"
   },
   "outputs": [],
   "source": [
    "tuner.search_space_summary()"
   ]
  },
  {
   "cell_type": "code",
   "execution_count": null,
   "metadata": {
    "id": "lJBy4cvLcTaJ"
   },
   "outputs": [],
   "source": [
    "tuner.search(\n",
    "   x_train, y_train ,\n",
    "   validation_data=(x_test, y_test),\n",
    "   epochs=5\n",
    ")"
   ]
  },
  {
   "cell_type": "code",
   "execution_count": null,
   "metadata": {
    "id": "BeUm2xwqgQlQ"
   },
   "outputs": [],
   "source": [
    "model= tuner.get_best_models(num_models=1)[0]"
   ]
  },
  {
   "cell_type": "code",
   "execution_count": null,
   "metadata": {
    "id": "JTVHofJ2ga-4"
   },
   "outputs": [],
   "source": [
    "model.summary()"
   ]
  },
  {
   "cell_type": "code",
   "execution_count": null,
   "metadata": {
    "id": "d33MXEKCgiO6"
   },
   "outputs": [],
   "source": [
    "_ = model.fit(\n",
    "    x_train,y_train,\n",
    "    validation_data=(x_test, y_test),\n",
    "    epochs=20)"
   ]
  }
 ],
 "metadata": {
  "colab": {
   "name": "Untitled0.ipynb",
   "private_outputs": true,
   "provenance": []
  },
  "kernelspec": {
   "display_name": "Python 3",
   "language": "python",
   "name": "python3"
  },
  "language_info": {
   "codemirror_mode": {
    "name": "ipython",
    "version": 3
   },
   "file_extension": ".py",
   "mimetype": "text/x-python",
   "name": "python",
   "nbconvert_exporter": "python",
   "pygments_lexer": "ipython3",
   "version": "3.8.10"
  }
 },
 "nbformat": 4,
 "nbformat_minor": 1
}
