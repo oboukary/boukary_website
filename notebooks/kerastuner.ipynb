{
  "nbformat": 4,
  "nbformat_minor": 0,
  "metadata": {
    "colab": {
      "name": "Untitled0.ipynb",
      "private_outputs": true,
      "provenance": []
    },
    "kernelspec": {
      "name": "python3",
      "display_name": "Python 3"
    },
    "language_info": {
      "name": "python"
    }
  },
  "cells": [
    {
      "cell_type": "code",
      "metadata": {
        "id": "YMFVPnBf6aSv"
      },
      "source": [
        "!pip install keras-tuner"
      ],
      "execution_count": null,
      "outputs": []
    },
    {
      "cell_type": "code",
      "metadata": {
        "id": "vswRPdeI6mbd"
      },
      "source": [
        "import tensorflow as tf\n",
        "import keras_tuner\n",
        "import matplotlib.pyplot as plt\n",
        "import numpy as np"
      ],
      "execution_count": null,
      "outputs": []
    },
    {
      "cell_type": "code",
      "metadata": {
        "id": "6kjWeW276-1v"
      },
      "source": [
        "tf.__version__"
      ],
      "execution_count": null,
      "outputs": []
    },
    {
      "cell_type": "code",
      "metadata": {
        "id": "yTSEuF5m7Jwk"
      },
      "source": [
        "(x_train, y_train),(x_test, y_test) =tf.keras.datasets.fashion_mnist.load_data()"
      ],
      "execution_count": null,
      "outputs": []
    },
    {
      "cell_type": "code",
      "metadata": {
        "id": "n16wHElA7jGN"
      },
      "source": [
        "x_train.shape"
      ],
      "execution_count": null,
      "outputs": []
    },
    {
      "cell_type": "code",
      "metadata": {
        "id": "fntwA3Xc7qGT"
      },
      "source": [
        "set(y_train)"
      ],
      "execution_count": null,
      "outputs": []
    },
    {
      "cell_type": "code",
      "metadata": {
        "id": "hGTx1MCf7yKM"
      },
      "source": [
        "plt.imshow(x_train[0], cmap=\"gray\")\n",
        "plt.title(y_train[0])"
      ],
      "execution_count": null,
      "outputs": []
    },
    {
      "cell_type": "markdown",
      "metadata": {
        "id": "jr377A68TZgm"
      },
      "source": [
        "#"
      ]
    },
    {
      "cell_type": "code",
      "metadata": {
        "id": "z1DlAJF48eUz"
      },
      "source": [
        "def create_model(hp):\n",
        " num_hidden_layers =1\n",
        " num_units=8\n",
        " dropout_rate=0.1\n",
        " learning_rate=0.01\n",
        " if hp:\n",
        "   num_hidden_layers = hp.Choice('num_hidden_layers', values=(1,2,3))\n",
        "   num_units = hp.Choice(\"num_units\",values=(8,16,32))\n",
        "   dropout_rate = hp.Float('dropout_rate', min_value=0.1, max_value=0.5)\n",
        "   learning_rate = hp.Float('learning_rate',min_value=0.0001, max_value=0.01)\n",
        " model= tf.keras.Sequential()\n",
        " model.add(tf.keras.layers.Flatten(input_shape=(28,28)))\n",
        " model.add(tf.keras.layers.Lambda(lambda x:x/255.)) # une couche lambda pour normaliser les pixels\n",
        " for _ in range(0, num_hidden_layers):\n",
        "   model.add(tf.keras.layers.Dense(num_units, activation='relu'))\n",
        "   model.add(tf.keras.layers.Dropout(dropout_rate))\n",
        " model.add(tf.keras.layers.Dense(10, activation=\"softmax\"))\n",
        "\n",
        " model.compile(loss=\"sparse_categorical_crossentropy\",\n",
        "               optimizer=tf.keras.optimizers.Adam(learning_rate=learning_rate),\n",
        "               metrics=[\"accuracy\"])\n",
        " return model"
      ],
      "execution_count": null,
      "outputs": []
    },
    {
      "cell_type": "markdown",
      "metadata": {
        "id": "FGep7cGIVWKy"
      },
      "source": [
        "Maintenant que le model est construit on peu afficher son architecture en appliquant la méthode **summary**  \n"
      ]
    },
    {
      "cell_type": "code",
      "metadata": {
        "id": "36EmF0pVVOCd"
      },
      "source": [
        "create_model(None).summary()"
      ],
      "execution_count": null,
      "outputs": []
    },
    {
      "cell_type": "markdown",
      "metadata": {
        "id": "BTbQAM4pWLLD"
      },
      "source": [
        ""
      ]
    },
    {
      "cell_type": "markdown",
      "metadata": {
        "id": "G7WF3ggYWLP3"
      },
      "source": [
        "Ceci est notre model avec les paramètres par défaut\n",
        "Créons maintenantant une classe quie hérite d'une classe du package **kerastuner**"
      ]
    },
    {
      "cell_type": "code",
      "metadata": {
        "id": "BzyA6OxwWKIE"
      },
      "source": [
        "class CustomTuner(kerastuner.tuners.BayesianOptimization):\n",
        "  def run_trial(self, trial, *args, **kwargs):\n",
        "    kwargs[\"batch_size\"] = trial.hyperparameters.Int(\"batch_size\", 32,128, step=32)\n",
        "    super(CustomTuner, self).run_trial(trial,*args,**kwargs)"
      ],
      "execution_count": null,
      "outputs": []
    },
    {
      "cell_type": "code",
      "metadata": {
        "id": "tw-5YFCzbdaI"
      },
      "source": [
        "tuner = CustomTuner(\n",
        "    create_model,\n",
        "    objective= \"val_accuracy\",\n",
        "    max_trials=20,\n",
        "    directory='logs',\n",
        "    project_name=\"fashion_mnist\",\n",
        "    overwrite=True\n",
        ")"
      ],
      "execution_count": null,
      "outputs": []
    },
    {
      "cell_type": "code",
      "metadata": {
        "id": "mjQkQvhCbdhu"
      },
      "source": [
        "tuner.search_space_summary()"
      ],
      "execution_count": null,
      "outputs": []
    },
    {
      "cell_type": "code",
      "metadata": {
        "id": "lJBy4cvLcTaJ"
      },
      "source": [
        "tuner.search(\n",
        "   x_train, y_train ,\n",
        "   validation_data=(x_test, y_test),\n",
        "   epochs=5\n",
        ")"
      ],
      "execution_count": null,
      "outputs": []
    },
    {
      "cell_type": "code",
      "metadata": {
        "id": "BeUm2xwqgQlQ"
      },
      "source": [
        "model= tuner.get_best_models(num_models=1)[0]"
      ],
      "execution_count": null,
      "outputs": []
    },
    {
      "cell_type": "code",
      "metadata": {
        "id": "JTVHofJ2ga-4"
      },
      "source": [
        "model.summary()"
      ],
      "execution_count": null,
      "outputs": []
    },
    {
      "cell_type": "code",
      "metadata": {
        "id": "d33MXEKCgiO6"
      },
      "source": [
        "_ = model.fit(\n",
        "    x_train,y_train,\n",
        "    validation_data=(x_test, y_test),\n",
        "    epochs=20)"
      ],
      "execution_count": null,
      "outputs": []
    }
  ]
}