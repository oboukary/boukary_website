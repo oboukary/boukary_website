{
 "cells": [
  {
   "cell_type": "markdown",
   "id": "5fbf7866",
   "metadata": {},
   "source": []
  },
  {
   "cell_type": "code",
   "execution_count": 1,
   "id": "1eb234d9",
   "metadata": {},
   "outputs": [
    {
     "name": "stdout",
     "output_type": "stream",
     "text": [
      " academic.Rproj   index.Rmd\t\t\t\t  R\r\n",
      " assets\t\t  layouts\t\t\t\t  README.md\r\n",
      " config\t\t  netlify.toml\t\t\t\t  resources\r\n",
      " config.toml\t  notebooks\t\t\t\t  static\r\n",
      " content\t  _output.yml\t\t\t\t  syntax.css\r\n",
      " data\t\t 'projet de  prediction de churn.ipynb'   themes\r\n",
      " i18n\t\t  public\r\n"
     ]
    }
   ],
   "source": [
    "!ls"
   ]
  },
  {
   "cell_type": "code",
   "execution_count": 3,
   "id": "a9626218",
   "metadata": {},
   "outputs": [
    {
     "name": "stdout",
     "output_type": "stream",
     "text": [
      " academic.Rproj   index.Rmd\t\t\t\t  R\r\n",
      " assets\t\t  layouts\t\t\t\t  README.md\r\n",
      " config\t\t  netlify.toml\t\t\t\t  resources\r\n",
      " config.toml\t  notebooks\t\t\t\t  static\r\n",
      " content\t  _output.yml\t\t\t\t  syntax.css\r\n",
      " data\t\t 'projet de  prediction de churn.ipynb'   themes\r\n",
      " i18n\t\t  public\r\n"
     ]
    }
   ],
   "source": []
  },
  {
   "cell_type": "code",
   "execution_count": null,
   "id": "e7e72d06",
   "metadata": {},
   "outputs": [],
   "source": []
  }
 ],
 "metadata": {
  "kernelspec": {
   "display_name": "Python 3",
   "language": "python",
   "name": "python3"
  },
  "language_info": {
   "codemirror_mode": {
    "name": "ipython",
    "version": 3
   },
   "file_extension": ".py",
   "mimetype": "text/x-python",
   "name": "python",
   "nbconvert_exporter": "python",
   "pygments_lexer": "ipython3",
   "version": "3.8.8"
  }
 },
 "nbformat": 4,
 "nbformat_minor": 5
}
